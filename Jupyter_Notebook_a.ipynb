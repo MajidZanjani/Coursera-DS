{
 "cells": [
  {
   "cell_type": "markdown",
   "id": "743106d8-8d07-4705-9108-7c271fb39219",
   "metadata": {},
   "source": [
    "# My Jupyter Notebook on IBM Watson Studio"
   ]
  },
  {
   "cell_type": "markdown",
   "id": "2f7f3337-f412-4eef-8b55-2e0d98dff000",
   "metadata": {},
   "source": [
    "**Majid Zanjani**"
   ]
  },
  {
   "cell_type": "markdown",
   "id": "7c6d8301-ae97-4cba-836a-7e8a51b288a0",
   "metadata": {},
   "source": [
    "*I'm interested in Data Science because I beleive that the future of the world is depends on data.*"
   ]
  },
  {
   "cell_type": "markdown",
   "id": "3c21a046-bc82-4e27-bc19-bd7f6200d27b",
   "metadata": {},
   "source": [
    "**This program swap two variables**"
   ]
  },
  {
   "cell_type": "code",
   "execution_count": 13,
   "id": "d284af76-d3a8-4633-b4e0-69be0cb5bae4",
   "metadata": {},
   "outputs": [
    {
     "name": "stdout",
     "output_type": "stream",
     "text": [
      "Before swap: a = 100, b = 200\n",
      "After swap: a = 200, b = 100\n"
     ]
    }
   ],
   "source": [
    "a = 100\n",
    "b = 200\n",
    "str = ('Before swap: a = {}, b = {}').format(a,b)\n",
    "print(str)\n",
    "x = a\n",
    "a = b\n",
    "b = x\n",
    "str = ('After swap: a = {}, b = {}').format(a,b)\n",
    "print(str)"
   ]
  },
  {
   "cell_type": "markdown",
   "id": "c0a92a84-ac3d-40d5-9007-33d6bdbd9f63",
   "metadata": {},
   "source": [
    "***\n",
    "- Python\n",
    "- Data Science\n",
    "- Machine Learning\n",
    "***\n",
    "|Item|Name|\n",
    "|----|----|\n",
    "|1|Python|\n",
    "|2|Data Science|\n",
    "|3|Machine Learning|\n"
   ]
  },
  {
   "cell_type": "code",
   "execution_count": null,
   "id": "283d5132-a197-4705-93d5-11b3360cec99",
   "metadata": {},
   "outputs": [],
   "source": []
  }
 ],
 "metadata": {
  "kernelspec": {
   "display_name": "Python",
   "language": "python",
   "name": "conda-env-python-py"
  },
  "language_info": {
   "codemirror_mode": {
    "name": "ipython",
    "version": 3
   },
   "file_extension": ".py",
   "mimetype": "text/x-python",
   "name": "python",
   "nbconvert_exporter": "python",
   "pygments_lexer": "ipython3",
   "version": "3.7.12"
  }
 },
 "nbformat": 4,
 "nbformat_minor": 5
}
